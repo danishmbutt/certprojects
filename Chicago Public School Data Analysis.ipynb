{
    "cells": [
        {
            "cell_type": "markdown",
            "metadata": {},
            "source": "## Chicago Public Schools - Progress Report Cards (2011-2012)\n\nThe city of Chicago released a dataset showing all school level performance data used to create School Report Cards for the 2011-2012 school year. The dataset is available from the Chicago Data Portal: [https://data.cityofchicago.org/Education/Chicago-Public-Schools-Progress-Report-Cards-2011-/9xs2-f89t](https://data.cityofchicago.org/Education/Chicago-Public-Schools-Progress-Report-Cards-2011-/9xs2-f89t?cm_mmc=Email_Newsletter-_-Developer_Ed%2BTech-_-WW_WW-_-SkillsNetwork-Courses-IBMDeveloperSkillsNetwork-DB0201EN-SkillsNetwork-20127838&cm_mmca1=000026UJ&cm_mmca2=10006555&cm_mmca3=M12345678&cvosrc=email.Newsletter.M12345678&cvo_campaign=000026UJ&cm_mmc=Email_Newsletter-_-Developer_Ed%2BTech-_-WW_WW-_-SkillsNetwork-Courses-IBMDeveloperSkillsNetwork-DB0201EN-SkillsNetwork-20127838&cm_mmca1=000026UJ&cm_mmca2=10006555&cm_mmca3=M12345678&cvosrc=email.Newsletter.M12345678&cvo_campaign=000026UJ)\n\nThis dataset includes a large number of metrics. Start by familiarizing yourself with the types of metrics in the database: [https://data.cityofchicago.org/api/assets/AAD41A13-BE8A-4E67-B1F5-86E711E09D5F?download=true](https://data.cityofchicago.org/api/assets/AAD41A13-BE8A-4E67-B1F5-86E711E09D5F?download=true&cm_mmc=Email_Newsletter-_-Developer_Ed%2BTech-_-WW_WW-_-SkillsNetwork-Courses-IBMDeveloperSkillsNetwork-DB0201EN-SkillsNetwork-20127838&cm_mmca1=000026UJ&cm_mmca2=10006555&cm_mmca3=M12345678&cvosrc=email.Newsletter.M12345678&cvo_campaign=000026UJ)\n\n**NOTE**: \n\nDo not download the dataset directly from City of Chicago portal. Instead download a static copy which is a more database friendly version from this <a href=\"https://cf-courses-data.s3.us.cloud-object-storage.appdomain.cloud/IBMDeveloperSkillsNetwork-DB0201EN-SkillsNetwork/labs/FinalModule_edX/data/Chicago_Public_Schools_-_Progress_Report_Cards__2011-2012-v3.csv\">link</a>.\n\nNow review some of its contents.\n"
        },
        {
            "cell_type": "code",
            "execution_count": 1,
            "metadata": {},
            "outputs": [
                {
                    "name": "stdout",
                    "output_type": "stream",
                    "text": "Requirement already satisfied: ipython-sql in /home/wsuser/.local/lib/python3.7/site-packages (0.4.0)\nRequirement already satisfied: ipython>=1.0 in /opt/conda/envs/Python-3.7-main/lib/python3.7/site-packages (from ipython-sql) (7.15.0)\nRequirement already satisfied: sqlparse in /home/wsuser/.local/lib/python3.7/site-packages (from ipython-sql) (0.4.1)\nRequirement already satisfied: six in /opt/conda/envs/Python-3.7-main/lib/python3.7/site-packages (from ipython-sql) (1.15.0)\nRequirement already satisfied: prettytable<1 in /home/wsuser/.local/lib/python3.7/site-packages (from ipython-sql) (0.7.2)\nRequirement already satisfied: ipython-genutils>=0.1.0 in /opt/conda/envs/Python-3.7-main/lib/python3.7/site-packages (from ipython-sql) (0.2.0)\nRequirement already satisfied: sqlalchemy>=0.6.7 in /opt/conda/envs/Python-3.7-main/lib/python3.7/site-packages (from ipython-sql) (1.3.17)\nRequirement already satisfied: pygments in /opt/conda/envs/Python-3.7-main/lib/python3.7/site-packages (from ipython>=1.0->ipython-sql) (2.6.1)\nRequirement already satisfied: setuptools>=18.5 in /opt/conda/envs/Python-3.7-main/lib/python3.7/site-packages (from ipython>=1.0->ipython-sql) (47.3.1.post20200622)\nRequirement already satisfied: backcall in /opt/conda/envs/Python-3.7-main/lib/python3.7/site-packages (from ipython>=1.0->ipython-sql) (0.2.0)\nRequirement already satisfied: pexpect; sys_platform != \"win32\" in /opt/conda/envs/Python-3.7-main/lib/python3.7/site-packages (from ipython>=1.0->ipython-sql) (4.8.0)\nRequirement already satisfied: prompt-toolkit!=3.0.0,!=3.0.1,<3.1.0,>=2.0.0 in /opt/conda/envs/Python-3.7-main/lib/python3.7/site-packages (from ipython>=1.0->ipython-sql) (3.0.5)\nRequirement already satisfied: traitlets>=4.2 in /opt/conda/envs/Python-3.7-main/lib/python3.7/site-packages (from ipython>=1.0->ipython-sql) (4.3.3)\nRequirement already satisfied: pickleshare in /opt/conda/envs/Python-3.7-main/lib/python3.7/site-packages (from ipython>=1.0->ipython-sql) (0.7.5)\nRequirement already satisfied: jedi>=0.10 in /opt/conda/envs/Python-3.7-main/lib/python3.7/site-packages (from ipython>=1.0->ipython-sql) (0.17.1)\nRequirement already satisfied: decorator in /opt/conda/envs/Python-3.7-main/lib/python3.7/site-packages (from ipython>=1.0->ipython-sql) (4.4.2)\nRequirement already satisfied: ptyprocess>=0.5 in /opt/conda/envs/Python-3.7-main/lib/python3.7/site-packages (from pexpect; sys_platform != \"win32\"->ipython>=1.0->ipython-sql) (0.6.0)\nRequirement already satisfied: wcwidth in /opt/conda/envs/Python-3.7-main/lib/python3.7/site-packages (from prompt-toolkit!=3.0.0,!=3.0.1,<3.1.0,>=2.0.0->ipython>=1.0->ipython-sql) (0.2.4)\nRequirement already satisfied: parso<0.8.0,>=0.7.0 in /opt/conda/envs/Python-3.7-main/lib/python3.7/site-packages (from jedi>=0.10->ipython>=1.0->ipython-sql) (0.7.0)\nRequirement already satisfied: ibm_db in /opt/conda/envs/Python-3.7-main/lib/python3.7/site-packages (3.0.2)\nRequirement already satisfied: ibm_db_sa in /opt/conda/envs/Python-3.7-main/lib/python3.7/site-packages (0.3.5)\nRequirement already satisfied: ibm-db>=2.0.0 in /opt/conda/envs/Python-3.7-main/lib/python3.7/site-packages (from ibm_db_sa) (3.0.2)\nRequirement already satisfied: sqlalchemy>=0.7.3 in /opt/conda/envs/Python-3.7-main/lib/python3.7/site-packages (from ibm_db_sa) (1.3.17)\n"
                }
            ],
            "source": "!pip install --user ipython-sql \n!pip install --user ibm_db\n!pip install --user ibm_db_sa\n\n\nimport ibm_db\nimport ibm_db_sa\nimport sqlalchemy\n\n%load_ext sql"
        },
        {
            "cell_type": "code",
            "execution_count": 3,
            "metadata": {},
            "outputs": [],
            "source": "# The code was removed by Watson Studio for sharing."
        },
        {
            "cell_type": "code",
            "execution_count": 23,
            "metadata": {},
            "outputs": [
                {
                    "name": "stdout",
                    "output_type": "stream",
                    "text": " * ibm_db_sa://fmn26900:***@dashdb-txn-sbox-yp-dal09-08.services.dal.bluemix.net:50000/BLUDB\nDone.\n"
                },
                {
                    "data": {
                        "text/html": "<table>\n    <tr>\n        <th>tabname</th>\n        <th>create_time</th>\n    </tr>\n    <tr>\n        <td>SCHOOLS</td>\n        <td>2021-02-14 09:11:55.060488</td>\n    </tr>\n</table>",
                        "text/plain": "[('SCHOOLS', datetime.datetime(2021, 2, 14, 9, 11, 55, 60488))]"
                    },
                    "execution_count": 23,
                    "metadata": {},
                    "output_type": "execute_result"
                }
            ],
            "source": "# type in your query to retrieve list of all tables in the database for your db2 schema (username)\n#%sql select TABSCHEMA, TABNAME, CREATE_TIME from SYSCAT.TABLES; \n#%sql select TABSCHEMA, TABNAME, CREATE_TIME from SYSCAT.TABLES where TABSCHEMA='xx' order by CREATE_TIME DESC;\n%sql select TABNAME, CREATE_TIME from SYSCAT.TABLES where TABNAME = 'SCHOOLS';\n\n"
        },
        {
            "cell_type": "markdown",
            "metadata": {},
            "source": "### Query the database system catalog to retrieve column metadata\n\n##### The SCHOOLS table contains a large number of columns. How many columns does this table have?\n"
        },
        {
            "cell_type": "code",
            "execution_count": 25,
            "metadata": {},
            "outputs": [
                {
                    "name": "stdout",
                    "output_type": "stream",
                    "text": " * ibm_db_sa://fmn26900:***@dashdb-txn-sbox-yp-dal09-08.services.dal.bluemix.net:50000/BLUDB\nDone.\n"
                },
                {
                    "data": {
                        "text/html": "<table>\n    <tr>\n        <th>1</th>\n    </tr>\n    <tr>\n        <td>78</td>\n    </tr>\n</table>",
                        "text/plain": "[(Decimal('78'),)]"
                    },
                    "execution_count": 25,
                    "metadata": {},
                    "output_type": "execute_result"
                }
            ],
            "source": "# type in your query to retrieve the number of columns in the SCHOOLS table\n%sql select count(*) from SYSCAT.COLUMNS where TABNAME='SCHOOLS';"
        },
        {
            "cell_type": "code",
            "execution_count": 27,
            "metadata": {},
            "outputs": [
                {
                    "name": "stdout",
                    "output_type": "stream",
                    "text": " * ibm_db_sa://fmn26900:***@dashdb-txn-sbox-yp-dal09-08.services.dal.bluemix.net:50000/BLUDB\nDone.\n"
                },
                {
                    "data": {
                        "text/html": "<table>\n    <tr>\n        <th>colname</th>\n        <th>typename</th>\n        <th>length</th>\n    </tr>\n    <tr>\n        <td>School_ID</td>\n        <td>INTEGER</td>\n        <td>4</td>\n    </tr>\n    <tr>\n        <td>NAME_OF_SCHOOL</td>\n        <td>VARCHAR</td>\n        <td>65</td>\n    </tr>\n    <tr>\n        <td>Elementary, Middle, or High School</td>\n        <td>VARCHAR</td>\n        <td>2</td>\n    </tr>\n    <tr>\n        <td>Street_Address</td>\n        <td>VARCHAR</td>\n        <td>30</td>\n    </tr>\n    <tr>\n        <td>City</td>\n        <td>VARCHAR</td>\n        <td>7</td>\n    </tr>\n    <tr>\n        <td>State</td>\n        <td>VARCHAR</td>\n        <td>2</td>\n    </tr>\n    <tr>\n        <td>ZIP_Code</td>\n        <td>INTEGER</td>\n        <td>4</td>\n    </tr>\n    <tr>\n        <td>Phone_Number</td>\n        <td>VARCHAR</td>\n        <td>14</td>\n    </tr>\n    <tr>\n        <td>Link</td>\n        <td>VARCHAR</td>\n        <td>78</td>\n    </tr>\n    <tr>\n        <td>Network_Manager</td>\n        <td>VARCHAR</td>\n        <td>40</td>\n    </tr>\n    <tr>\n        <td>Collaborative_Name</td>\n        <td>VARCHAR</td>\n        <td>34</td>\n    </tr>\n    <tr>\n        <td>Adequate_Yearly_Progress_Made_</td>\n        <td>VARCHAR</td>\n        <td>3</td>\n    </tr>\n    <tr>\n        <td>Track_Schedule</td>\n        <td>VARCHAR</td>\n        <td>12</td>\n    </tr>\n    <tr>\n        <td>CPS_Performance_Policy_Status</td>\n        <td>VARCHAR</td>\n        <td>16</td>\n    </tr>\n    <tr>\n        <td>CPS_Performance_Policy_Level</td>\n        <td>VARCHAR</td>\n        <td>15</td>\n    </tr>\n    <tr>\n        <td>HEALTHY_SCHOOL_CERTIFIED</td>\n        <td>VARCHAR</td>\n        <td>3</td>\n    </tr>\n    <tr>\n        <td>Safety_Icon</td>\n        <td>VARCHAR</td>\n        <td>11</td>\n    </tr>\n    <tr>\n        <td>SAFETY_SCORE</td>\n        <td>SMALLINT</td>\n        <td>2</td>\n    </tr>\n    <tr>\n        <td>Family_Involvement_Icon</td>\n        <td>VARCHAR</td>\n        <td>11</td>\n    </tr>\n    <tr>\n        <td>Family_Involvement_Score</td>\n        <td>VARCHAR</td>\n        <td>3</td>\n    </tr>\n    <tr>\n        <td>Environment_Icon</td>\n        <td>VARCHAR</td>\n        <td>11</td>\n    </tr>\n    <tr>\n        <td>Environment_Score</td>\n        <td>SMALLINT</td>\n        <td>2</td>\n    </tr>\n    <tr>\n        <td>Instruction_Icon</td>\n        <td>VARCHAR</td>\n        <td>11</td>\n    </tr>\n    <tr>\n        <td>Instruction_Score</td>\n        <td>SMALLINT</td>\n        <td>2</td>\n    </tr>\n    <tr>\n        <td>Leaders_Icon</td>\n        <td>VARCHAR</td>\n        <td>11</td>\n    </tr>\n    <tr>\n        <td>Leaders_Score</td>\n        <td>VARCHAR</td>\n        <td>3</td>\n    </tr>\n    <tr>\n        <td>Teachers_Icon</td>\n        <td>VARCHAR</td>\n        <td>11</td>\n    </tr>\n    <tr>\n        <td>Teachers_Score</td>\n        <td>VARCHAR</td>\n        <td>3</td>\n    </tr>\n    <tr>\n        <td>Parent_Engagement_Icon</td>\n        <td>VARCHAR</td>\n        <td>7</td>\n    </tr>\n    <tr>\n        <td>Parent_Engagement_Score</td>\n        <td>VARCHAR</td>\n        <td>3</td>\n    </tr>\n    <tr>\n        <td>Parent_Environment_Icon</td>\n        <td>VARCHAR</td>\n        <td>7</td>\n    </tr>\n    <tr>\n        <td>Parent_Environment_Score</td>\n        <td>VARCHAR</td>\n        <td>3</td>\n    </tr>\n    <tr>\n        <td>AVERAGE_STUDENT_ATTENDANCE</td>\n        <td>VARCHAR</td>\n        <td>6</td>\n    </tr>\n    <tr>\n        <td>Rate_of_Misconducts__per_100_students_</td>\n        <td>DECIMAL</td>\n        <td>5</td>\n    </tr>\n    <tr>\n        <td>Average_Teacher_Attendance</td>\n        <td>VARCHAR</td>\n        <td>6</td>\n    </tr>\n    <tr>\n        <td>Individualized_Education_Program_Compliance_Rate</td>\n        <td>VARCHAR</td>\n        <td>7</td>\n    </tr>\n    <tr>\n        <td>Pk_2_Literacy__</td>\n        <td>VARCHAR</td>\n        <td>4</td>\n    </tr>\n    <tr>\n        <td>Pk_2_Math__</td>\n        <td>VARCHAR</td>\n        <td>4</td>\n    </tr>\n    <tr>\n        <td>Gr3_5_Grade_Level_Math__</td>\n        <td>VARCHAR</td>\n        <td>4</td>\n    </tr>\n    <tr>\n        <td>Gr3_5_Grade_Level_Read__</td>\n        <td>VARCHAR</td>\n        <td>4</td>\n    </tr>\n    <tr>\n        <td>Gr3_5_Keep_Pace_Read__</td>\n        <td>VARCHAR</td>\n        <td>4</td>\n    </tr>\n    <tr>\n        <td>Gr3_5_Keep_Pace_Math__</td>\n        <td>VARCHAR</td>\n        <td>4</td>\n    </tr>\n    <tr>\n        <td>Gr6_8_Grade_Level_Math__</td>\n        <td>VARCHAR</td>\n        <td>4</td>\n    </tr>\n    <tr>\n        <td>Gr6_8_Grade_Level_Read__</td>\n        <td>VARCHAR</td>\n        <td>4</td>\n    </tr>\n    <tr>\n        <td>Gr6_8_Keep_Pace_Math_</td>\n        <td>VARCHAR</td>\n        <td>4</td>\n    </tr>\n    <tr>\n        <td>Gr6_8_Keep_Pace_Read__</td>\n        <td>VARCHAR</td>\n        <td>4</td>\n    </tr>\n    <tr>\n        <td>Gr_8_Explore_Math__</td>\n        <td>VARCHAR</td>\n        <td>4</td>\n    </tr>\n    <tr>\n        <td>Gr_8_Explore_Read__</td>\n        <td>VARCHAR</td>\n        <td>4</td>\n    </tr>\n    <tr>\n        <td>ISAT_Exceeding_Math__</td>\n        <td>DECIMAL</td>\n        <td>4</td>\n    </tr>\n    <tr>\n        <td>ISAT_Exceeding_Reading__</td>\n        <td>DECIMAL</td>\n        <td>4</td>\n    </tr>\n    <tr>\n        <td>ISAT_Value_Add_Math</td>\n        <td>DECIMAL</td>\n        <td>3</td>\n    </tr>\n    <tr>\n        <td>ISAT_Value_Add_Read</td>\n        <td>DECIMAL</td>\n        <td>3</td>\n    </tr>\n    <tr>\n        <td>ISAT_Value_Add_Color_Math</td>\n        <td>VARCHAR</td>\n        <td>6</td>\n    </tr>\n    <tr>\n        <td>ISAT_Value_Add_Color_Read</td>\n        <td>VARCHAR</td>\n        <td>6</td>\n    </tr>\n    <tr>\n        <td>Students_Taking__Algebra__</td>\n        <td>VARCHAR</td>\n        <td>4</td>\n    </tr>\n    <tr>\n        <td>Students_Passing__Algebra__</td>\n        <td>VARCHAR</td>\n        <td>4</td>\n    </tr>\n    <tr>\n        <td>9th Grade EXPLORE (2009)</td>\n        <td>VARCHAR</td>\n        <td>4</td>\n    </tr>\n    <tr>\n        <td>9th Grade EXPLORE (2010)</td>\n        <td>VARCHAR</td>\n        <td>4</td>\n    </tr>\n    <tr>\n        <td>10th Grade PLAN (2009)</td>\n        <td>VARCHAR</td>\n        <td>4</td>\n    </tr>\n    <tr>\n        <td>10th Grade PLAN (2010)</td>\n        <td>VARCHAR</td>\n        <td>4</td>\n    </tr>\n    <tr>\n        <td>Net_Change_EXPLORE_and_PLAN</td>\n        <td>VARCHAR</td>\n        <td>3</td>\n    </tr>\n    <tr>\n        <td>11th Grade Average ACT (2011)</td>\n        <td>VARCHAR</td>\n        <td>4</td>\n    </tr>\n    <tr>\n        <td>Net_Change_PLAN_and_ACT</td>\n        <td>VARCHAR</td>\n        <td>3</td>\n    </tr>\n    <tr>\n        <td>College_Eligibility__</td>\n        <td>VARCHAR</td>\n        <td>4</td>\n    </tr>\n    <tr>\n        <td>Graduation_Rate__</td>\n        <td>VARCHAR</td>\n        <td>4</td>\n    </tr>\n    <tr>\n        <td>College_Enrollment_Rate__</td>\n        <td>VARCHAR</td>\n        <td>4</td>\n    </tr>\n    <tr>\n        <td>COLLEGE_ENROLLMENT</td>\n        <td>SMALLINT</td>\n        <td>2</td>\n    </tr>\n    <tr>\n        <td>General_Services_Route</td>\n        <td>SMALLINT</td>\n        <td>2</td>\n    </tr>\n    <tr>\n        <td>Freshman_on_Track_Rate__</td>\n        <td>VARCHAR</td>\n        <td>4</td>\n    </tr>\n    <tr>\n        <td>X_COORDINATE</td>\n        <td>DECIMAL</td>\n        <td>13</td>\n    </tr>\n    <tr>\n        <td>Y_COORDINATE</td>\n        <td>DECIMAL</td>\n        <td>13</td>\n    </tr>\n    <tr>\n        <td>Latitude</td>\n        <td>DECIMAL</td>\n        <td>18</td>\n    </tr>\n    <tr>\n        <td>Longitude</td>\n        <td>DECIMAL</td>\n        <td>18</td>\n    </tr>\n    <tr>\n        <td>COMMUNITY_AREA_NUMBER</td>\n        <td>SMALLINT</td>\n        <td>2</td>\n    </tr>\n    <tr>\n        <td>COMMUNITY_AREA_NAME</td>\n        <td>VARCHAR</td>\n        <td>22</td>\n    </tr>\n    <tr>\n        <td>Ward</td>\n        <td>SMALLINT</td>\n        <td>2</td>\n    </tr>\n    <tr>\n        <td>Police_District</td>\n        <td>SMALLINT</td>\n        <td>2</td>\n    </tr>\n    <tr>\n        <td>Location</td>\n        <td>VARCHAR</td>\n        <td>27</td>\n    </tr>\n</table>",
                        "text/plain": "[('School_ID', 'INTEGER', 4),\n ('NAME_OF_SCHOOL', 'VARCHAR', 65),\n ('Elementary, Middle, or High School', 'VARCHAR', 2),\n ('Street_Address', 'VARCHAR', 30),\n ('City', 'VARCHAR', 7),\n ('State', 'VARCHAR', 2),\n ('ZIP_Code', 'INTEGER', 4),\n ('Phone_Number', 'VARCHAR', 14),\n ('Link', 'VARCHAR', 78),\n ('Network_Manager', 'VARCHAR', 40),\n ('Collaborative_Name', 'VARCHAR', 34),\n ('Adequate_Yearly_Progress_Made_', 'VARCHAR', 3),\n ('Track_Schedule', 'VARCHAR', 12),\n ('CPS_Performance_Policy_Status', 'VARCHAR', 16),\n ('CPS_Performance_Policy_Level', 'VARCHAR', 15),\n ('HEALTHY_SCHOOL_CERTIFIED', 'VARCHAR', 3),\n ('Safety_Icon', 'VARCHAR', 11),\n ('SAFETY_SCORE', 'SMALLINT', 2),\n ('Family_Involvement_Icon', 'VARCHAR', 11),\n ('Family_Involvement_Score', 'VARCHAR', 3),\n ('Environment_Icon', 'VARCHAR', 11),\n ('Environment_Score', 'SMALLINT', 2),\n ('Instruction_Icon', 'VARCHAR', 11),\n ('Instruction_Score', 'SMALLINT', 2),\n ('Leaders_Icon', 'VARCHAR', 11),\n ('Leaders_Score', 'VARCHAR', 3),\n ('Teachers_Icon', 'VARCHAR', 11),\n ('Teachers_Score', 'VARCHAR', 3),\n ('Parent_Engagement_Icon', 'VARCHAR', 7),\n ('Parent_Engagement_Score', 'VARCHAR', 3),\n ('Parent_Environment_Icon', 'VARCHAR', 7),\n ('Parent_Environment_Score', 'VARCHAR', 3),\n ('AVERAGE_STUDENT_ATTENDANCE', 'VARCHAR', 6),\n ('Rate_of_Misconducts__per_100_students_', 'DECIMAL', 5),\n ('Average_Teacher_Attendance', 'VARCHAR', 6),\n ('Individualized_Education_Program_Compliance_Rate', 'VARCHAR', 7),\n ('Pk_2_Literacy__', 'VARCHAR', 4),\n ('Pk_2_Math__', 'VARCHAR', 4),\n ('Gr3_5_Grade_Level_Math__', 'VARCHAR', 4),\n ('Gr3_5_Grade_Level_Read__', 'VARCHAR', 4),\n ('Gr3_5_Keep_Pace_Read__', 'VARCHAR', 4),\n ('Gr3_5_Keep_Pace_Math__', 'VARCHAR', 4),\n ('Gr6_8_Grade_Level_Math__', 'VARCHAR', 4),\n ('Gr6_8_Grade_Level_Read__', 'VARCHAR', 4),\n ('Gr6_8_Keep_Pace_Math_', 'VARCHAR', 4),\n ('Gr6_8_Keep_Pace_Read__', 'VARCHAR', 4),\n ('Gr_8_Explore_Math__', 'VARCHAR', 4),\n ('Gr_8_Explore_Read__', 'VARCHAR', 4),\n ('ISAT_Exceeding_Math__', 'DECIMAL', 4),\n ('ISAT_Exceeding_Reading__', 'DECIMAL', 4),\n ('ISAT_Value_Add_Math', 'DECIMAL', 3),\n ('ISAT_Value_Add_Read', 'DECIMAL', 3),\n ('ISAT_Value_Add_Color_Math', 'VARCHAR', 6),\n ('ISAT_Value_Add_Color_Read', 'VARCHAR', 6),\n ('Students_Taking__Algebra__', 'VARCHAR', 4),\n ('Students_Passing__Algebra__', 'VARCHAR', 4),\n ('9th Grade EXPLORE (2009)', 'VARCHAR', 4),\n ('9th Grade EXPLORE (2010)', 'VARCHAR', 4),\n ('10th Grade PLAN (2009)', 'VARCHAR', 4),\n ('10th Grade PLAN (2010)', 'VARCHAR', 4),\n ('Net_Change_EXPLORE_and_PLAN', 'VARCHAR', 3),\n ('11th Grade Average ACT (2011)', 'VARCHAR', 4),\n ('Net_Change_PLAN_and_ACT', 'VARCHAR', 3),\n ('College_Eligibility__', 'VARCHAR', 4),\n ('Graduation_Rate__', 'VARCHAR', 4),\n ('College_Enrollment_Rate__', 'VARCHAR', 4),\n ('COLLEGE_ENROLLMENT', 'SMALLINT', 2),\n ('General_Services_Route', 'SMALLINT', 2),\n ('Freshman_on_Track_Rate__', 'VARCHAR', 4),\n ('X_COORDINATE', 'DECIMAL', 13),\n ('Y_COORDINATE', 'DECIMAL', 13),\n ('Latitude', 'DECIMAL', 18),\n ('Longitude', 'DECIMAL', 18),\n ('COMMUNITY_AREA_NUMBER', 'SMALLINT', 2),\n ('COMMUNITY_AREA_NAME', 'VARCHAR', 22),\n ('Ward', 'SMALLINT', 2),\n ('Police_District', 'SMALLINT', 2),\n ('Location', 'VARCHAR', 27)]"
                    },
                    "execution_count": 27,
                    "metadata": {},
                    "output_type": "execute_result"
                }
            ],
            "source": "# type in your query to retrieve all column names in the SCHOOLS table along with their datatypes and length\n%sql select colname, typename, length from syscat.columns where TABNAME='SCHOOLS';"
        },
        {
            "cell_type": "markdown",
            "metadata": {},
            "source": "## Problems\n\n### Problem 1\n\n##### How many Elementary Schools are in the dataset?\n"
        },
        {
            "cell_type": "code",
            "execution_count": 42,
            "metadata": {},
            "outputs": [
                {
                    "name": "stdout",
                    "output_type": "stream",
                    "text": " * ibm_db_sa://fmn26900:***@dashdb-txn-sbox-yp-dal09-08.services.dal.bluemix.net:50000/BLUDB\nDone.\n"
                },
                {
                    "data": {
                        "text/html": "<table>\n    <tr>\n        <th>elementary_school_count</th>\n    </tr>\n    <tr>\n        <td>462</td>\n    </tr>\n</table>",
                        "text/plain": "[(Decimal('462'),)]"
                    },
                    "execution_count": 42,
                    "metadata": {},
                    "output_type": "execute_result"
                }
            ],
            "source": "%sql select count(\"Elementary, Middle, or High School\") as ELEMENTARY_SCHOOL_COUNT \\\nfrom SCHOOLS where \"Elementary, Middle, or High School\"='ES';\n"
        },
        {
            "cell_type": "markdown",
            "metadata": {},
            "source": "### Problem 2\n\n##### What is the highest Safety Score?\n"
        },
        {
            "cell_type": "code",
            "execution_count": 44,
            "metadata": {},
            "outputs": [
                {
                    "name": "stdout",
                    "output_type": "stream",
                    "text": " * ibm_db_sa://fmn26900:***@dashdb-txn-sbox-yp-dal09-08.services.dal.bluemix.net:50000/BLUDB\nDone.\n"
                },
                {
                    "data": {
                        "text/html": "<table>\n    <tr>\n        <th>max_safety_score</th>\n    </tr>\n    <tr>\n        <td>99</td>\n    </tr>\n</table>",
                        "text/plain": "[(99,)]"
                    },
                    "execution_count": 44,
                    "metadata": {},
                    "output_type": "execute_result"
                }
            ],
            "source": "%sql select max(SAFETY_SCORE) AS MAX_SAFETY_SCORE from SCHOOLS;"
        },
        {
            "cell_type": "markdown",
            "metadata": {},
            "source": "### Problem 3\n\n##### Which schools have highest Safety Score?\n"
        },
        {
            "cell_type": "code",
            "execution_count": 48,
            "metadata": {},
            "outputs": [
                {
                    "name": "stdout",
                    "output_type": "stream",
                    "text": " * ibm_db_sa://fmn26900:***@dashdb-txn-sbox-yp-dal09-08.services.dal.bluemix.net:50000/BLUDB\nDone.\n"
                },
                {
                    "data": {
                        "text/html": "<table>\n    <tr>\n        <th>name_of_school</th>\n        <th>safety_score</th>\n    </tr>\n    <tr>\n        <td>Abraham Lincoln Elementary School</td>\n        <td>99</td>\n    </tr>\n    <tr>\n        <td>Alexander Graham Bell Elementary School</td>\n        <td>99</td>\n    </tr>\n    <tr>\n        <td>Annie Keller Elementary Gifted Magnet School</td>\n        <td>99</td>\n    </tr>\n    <tr>\n        <td>Augustus H Burley Elementary School</td>\n        <td>99</td>\n    </tr>\n    <tr>\n        <td>Edgar Allan Poe Elementary Classical School</td>\n        <td>99</td>\n    </tr>\n    <tr>\n        <td>Edgebrook Elementary School</td>\n        <td>99</td>\n    </tr>\n    <tr>\n        <td>Ellen Mitchell Elementary School</td>\n        <td>99</td>\n    </tr>\n    <tr>\n        <td>James E McDade Elementary Classical School</td>\n        <td>99</td>\n    </tr>\n    <tr>\n        <td>James G Blaine Elementary School</td>\n        <td>99</td>\n    </tr>\n    <tr>\n        <td>LaSalle Elementary Language Academy</td>\n        <td>99</td>\n    </tr>\n    <tr>\n        <td>Mary E Courtenay Elementary Language Arts Center</td>\n        <td>99</td>\n    </tr>\n    <tr>\n        <td>Northside College Preparatory High School</td>\n        <td>99</td>\n    </tr>\n    <tr>\n        <td>Northside Learning Center High School</td>\n        <td>99</td>\n    </tr>\n    <tr>\n        <td>Norwood Park Elementary School</td>\n        <td>99</td>\n    </tr>\n    <tr>\n        <td>Oriole Park Elementary School</td>\n        <td>99</td>\n    </tr>\n    <tr>\n        <td>Sauganash Elementary School</td>\n        <td>99</td>\n    </tr>\n    <tr>\n        <td>Stephen Decatur Classical Elementary School</td>\n        <td>99</td>\n    </tr>\n    <tr>\n        <td>Talman Elementary School</td>\n        <td>99</td>\n    </tr>\n    <tr>\n        <td>Wildwood Elementary School</td>\n        <td>99</td>\n    </tr>\n</table>",
                        "text/plain": "[('Abraham Lincoln Elementary School', 99),\n ('Alexander Graham Bell Elementary School', 99),\n ('Annie Keller Elementary Gifted Magnet School', 99),\n ('Augustus H Burley Elementary School', 99),\n ('Edgar Allan Poe Elementary Classical School', 99),\n ('Edgebrook Elementary School', 99),\n ('Ellen Mitchell Elementary School', 99),\n ('James E McDade Elementary Classical School', 99),\n ('James G Blaine Elementary School', 99),\n ('LaSalle Elementary Language Academy', 99),\n ('Mary E Courtenay Elementary Language Arts Center', 99),\n ('Northside College Preparatory High School', 99),\n ('Northside Learning Center High School', 99),\n ('Norwood Park Elementary School', 99),\n ('Oriole Park Elementary School', 99),\n ('Sauganash Elementary School', 99),\n ('Stephen Decatur Classical Elementary School', 99),\n ('Talman Elementary School', 99),\n ('Wildwood Elementary School', 99)]"
                    },
                    "execution_count": 48,
                    "metadata": {},
                    "output_type": "execute_result"
                }
            ],
            "source": "%sql select name_of_school, SAFETY_SCORE from SCHOOLS\\\nWHERE SAFETY_SCORE = (select MAX(SAFETY_SCORE) from SCHOOLS);"
        },
        {
            "cell_type": "markdown",
            "metadata": {},
            "source": "### Problem 4\n\n##### What are the top 10 schools with the highest \"Average Student Attendance\"?\n"
        },
        {
            "cell_type": "code",
            "execution_count": 55,
            "metadata": {},
            "outputs": [
                {
                    "name": "stdout",
                    "output_type": "stream",
                    "text": " * ibm_db_sa://fmn26900:***@dashdb-txn-sbox-yp-dal09-08.services.dal.bluemix.net:50000/BLUDB\nDone.\n"
                },
                {
                    "data": {
                        "text/html": "<table>\n    <tr>\n        <th>name_of_school</th>\n        <th>desc</th>\n    </tr>\n    <tr>\n        <td>Abraham Lincoln Elementary School</td>\n        <td>96.00%</td>\n    </tr>\n    <tr>\n        <td>Adam Clayton Powell Paideia Community Academy Elementary School</td>\n        <td>95.60%</td>\n    </tr>\n    <tr>\n        <td>Adlai E Stevenson Elementary School</td>\n        <td>95.70%</td>\n    </tr>\n    <tr>\n        <td>Agustin Lara Elementary Academy</td>\n        <td>95.50%</td>\n    </tr>\n    <tr>\n        <td>Air Force Academy High School</td>\n        <td>93.30%</td>\n    </tr>\n    <tr>\n        <td>Albany Park Multicultural Academy</td>\n        <td>97.00%</td>\n    </tr>\n    <tr>\n        <td>Albert G Lane Technical High School</td>\n        <td>96.30%</td>\n    </tr>\n    <tr>\n        <td>Albert R Sabin Elementary Magnet School</td>\n        <td>94.70%</td>\n    </tr>\n    <tr>\n        <td>Alcott High School for the Humanities</td>\n        <td>92.70%</td>\n    </tr>\n    <tr>\n        <td>Alessandro Volta Elementary School</td>\n        <td>96.40%</td>\n    </tr>\n</table>",
                        "text/plain": "[('Abraham Lincoln Elementary School', '96.00%'),\n ('Adam Clayton Powell Paideia Community Academy Elementary School', '95.60%'),\n ('Adlai E Stevenson Elementary School', '95.70%'),\n ('Agustin Lara Elementary Academy', '95.50%'),\n ('Air Force Academy High School', '93.30%'),\n ('Albany Park Multicultural Academy', '97.00%'),\n ('Albert G Lane Technical High School', '96.30%'),\n ('Albert R Sabin Elementary Magnet School', '94.70%'),\n ('Alcott High School for the Humanities', '92.70%'),\n ('Alessandro Volta Elementary School', '96.40%')]"
                    },
                    "execution_count": 55,
                    "metadata": {},
                    "output_type": "execute_result"
                }
            ],
            "source": "%%sql\n\nselect name_of_school, AVERAGE_STUDENT_ATTENDANCE DESC\nfrom schools LIMIT 10\n;"
        },
        {
            "cell_type": "markdown",
            "metadata": {},
            "source": "### Problem 5\n\n##### Retrieve the list of 5 Schools with the lowest Average Student Attendance sorted in ascending order based on attendance\n"
        },
        {
            "cell_type": "code",
            "execution_count": 59,
            "metadata": {},
            "outputs": [
                {
                    "name": "stdout",
                    "output_type": "stream",
                    "text": " * ibm_db_sa://fmn26900:***@dashdb-txn-sbox-yp-dal09-08.services.dal.bluemix.net:50000/BLUDB\nDone.\n"
                },
                {
                    "data": {
                        "text/html": "<table>\n    <tr>\n        <th>name_of_school</th>\n        <th>average_student_attendance</th>\n    </tr>\n    <tr>\n        <td>Richard T Crane Technical Preparatory High School</td>\n        <td>57.90%</td>\n    </tr>\n    <tr>\n        <td>Barbara Vick Early Childhood &amp; Family Center</td>\n        <td>60.90%</td>\n    </tr>\n    <tr>\n        <td>Dyett High School</td>\n        <td>62.50%</td>\n    </tr>\n    <tr>\n        <td>Wendell Phillips Academy High School</td>\n        <td>63.00%</td>\n    </tr>\n    <tr>\n        <td>Orr Academy High School</td>\n        <td>66.30%</td>\n    </tr>\n</table>",
                        "text/plain": "[('Richard T Crane Technical Preparatory High School', '57.90%'),\n ('Barbara Vick Early Childhood & Family Center', '60.90%'),\n ('Dyett High School', '62.50%'),\n ('Wendell Phillips Academy High School', '63.00%'),\n ('Orr Academy High School', '66.30%')]"
                    },
                    "execution_count": 59,
                    "metadata": {},
                    "output_type": "execute_result"
                }
            ],
            "source": "%%sql\nselect NAME_OF_SCHOOL, AVERAGE_STUDENT_ATTENDANCE from SCHOOLS \norder by AVERAGE_STUDENT_ATTENDANCE fetch first 5 rows only;"
        },
        {
            "cell_type": "markdown",
            "metadata": {},
            "source": "### Problem 6\n\n##### Now remove the '%' sign from the above result set for Average Student Attendance column\n"
        },
        {
            "cell_type": "code",
            "execution_count": 61,
            "metadata": {},
            "outputs": [
                {
                    "name": "stdout",
                    "output_type": "stream",
                    "text": " * ibm_db_sa://fmn26900:***@dashdb-txn-sbox-yp-dal09-08.services.dal.bluemix.net:50000/BLUDB\nDone.\n"
                },
                {
                    "data": {
                        "text/html": "<table>\n    <tr>\n        <th>name_of_school</th>\n        <th>attendance</th>\n    </tr>\n    <tr>\n        <td>Richard T Crane Technical Preparatory High School</td>\n        <td>57.90</td>\n    </tr>\n    <tr>\n        <td>Barbara Vick Early Childhood &amp; Family Center</td>\n        <td>60.90</td>\n    </tr>\n    <tr>\n        <td>Dyett High School</td>\n        <td>62.50</td>\n    </tr>\n    <tr>\n        <td>Wendell Phillips Academy High School</td>\n        <td>63.00</td>\n    </tr>\n    <tr>\n        <td>Orr Academy High School</td>\n        <td>66.30</td>\n    </tr>\n</table>",
                        "text/plain": "[('Richard T Crane Technical Preparatory High School', '57.90'),\n ('Barbara Vick Early Childhood & Family Center', '60.90'),\n ('Dyett High School', '62.50'),\n ('Wendell Phillips Academy High School', '63.00'),\n ('Orr Academy High School', '66.30')]"
                    },
                    "execution_count": 61,
                    "metadata": {},
                    "output_type": "execute_result"
                }
            ],
            "source": "%%sql\nselect NAME_OF_SCHOOL, REPLACE(AVERAGE_STUDENT_ATTENDANCE, '%', '') AS ATTENDANCE\nfrom SCHOOLS \norder by AVERAGE_STUDENT_ATTENDANCE fetch first 5 rows only;"
        },
        {
            "cell_type": "markdown",
            "metadata": {},
            "source": "### Problem 7\n\n##### Which Schools have Average Student Attendance lower than 70%?\n"
        },
        {
            "cell_type": "code",
            "execution_count": 67,
            "metadata": {},
            "outputs": [
                {
                    "name": "stdout",
                    "output_type": "stream",
                    "text": " * ibm_db_sa://fmn26900:***@dashdb-txn-sbox-yp-dal09-08.services.dal.bluemix.net:50000/BLUDB\nDone.\n"
                },
                {
                    "data": {
                        "text/html": "<table>\n    <tr>\n        <th>name_of_school</th>\n        <th>attendance</th>\n    </tr>\n    <tr>\n        <td>Richard T Crane Technical Preparatory High School</td>\n        <td>57.90</td>\n    </tr>\n    <tr>\n        <td>Barbara Vick Early Childhood &amp; Family Center</td>\n        <td>60.90</td>\n    </tr>\n    <tr>\n        <td>Dyett High School</td>\n        <td>62.50</td>\n    </tr>\n    <tr>\n        <td>Wendell Phillips Academy High School</td>\n        <td>63.00</td>\n    </tr>\n    <tr>\n        <td>Orr Academy High School</td>\n        <td>66.30</td>\n    </tr>\n    <tr>\n        <td>Manley Career Academy High School</td>\n        <td>66.80</td>\n    </tr>\n    <tr>\n        <td>Chicago Vocational Career Academy High School</td>\n        <td>68.80</td>\n    </tr>\n    <tr>\n        <td>Roberto Clemente Community Academy High School</td>\n        <td>69.60</td>\n    </tr>\n</table>",
                        "text/plain": "[('Richard T Crane Technical Preparatory High School', '57.90'),\n ('Barbara Vick Early Childhood & Family Center', '60.90'),\n ('Dyett High School', '62.50'),\n ('Wendell Phillips Academy High School', '63.00'),\n ('Orr Academy High School', '66.30'),\n ('Manley Career Academy High School', '66.80'),\n ('Chicago Vocational Career Academy High School', '68.80'),\n ('Roberto Clemente Community Academy High School', '69.60')]"
                    },
                    "execution_count": 67,
                    "metadata": {},
                    "output_type": "execute_result"
                }
            ],
            "source": "%%sql\nselect NAME_OF_SCHOOL, REPLACE(AVERAGE_STUDENT_ATTENDANCE, '%', '') AS ATTENDANCE\nfrom SCHOOLS \nwhere DECIMAL(REPLACE(AVERAGE_STUDENT_ATTENDANCE, '%', '')) < 70.0\norder by AVERAGE_STUDENT_ATTENDANCE;"
        },
        {
            "cell_type": "markdown",
            "metadata": {},
            "source": "### Problem 8\n\n##### Get the total College Enrollment for each Community Area\n"
        },
        {
            "cell_type": "code",
            "execution_count": 78,
            "metadata": {},
            "outputs": [
                {
                    "name": "stdout",
                    "output_type": "stream",
                    "text": " * ibm_db_sa://fmn26900:***@dashdb-txn-sbox-yp-dal09-08.services.dal.bluemix.net:50000/BLUDB\nDone.\n"
                },
                {
                    "data": {
                        "text/html": "<table>\n    <tr>\n        <th>community_area_name</th>\n        <th>college_enrollment</th>\n    </tr>\n    <tr>\n        <td>ALBANY PARK</td>\n        <td>6864</td>\n    </tr>\n    <tr>\n        <td>ARCHER HEIGHTS</td>\n        <td>4823</td>\n    </tr>\n    <tr>\n        <td>ARMOUR SQUARE</td>\n        <td>1458</td>\n    </tr>\n    <tr>\n        <td>ASHBURN</td>\n        <td>6483</td>\n    </tr>\n    <tr>\n        <td>AUBURN GRESHAM</td>\n        <td>4175</td>\n    </tr>\n    <tr>\n        <td>AUSTIN</td>\n        <td>10933</td>\n    </tr>\n    <tr>\n        <td>AVALON PARK</td>\n        <td>1522</td>\n    </tr>\n    <tr>\n        <td>AVONDALE</td>\n        <td>3640</td>\n    </tr>\n    <tr>\n        <td>BELMONT CRAGIN</td>\n        <td>14386</td>\n    </tr>\n    <tr>\n        <td>BEVERLY</td>\n        <td>1636</td>\n    </tr>\n    <tr>\n        <td>BRIDGEPORT</td>\n        <td>3167</td>\n    </tr>\n    <tr>\n        <td>BRIGHTON PARK</td>\n        <td>9647</td>\n    </tr>\n    <tr>\n        <td>BURNSIDE</td>\n        <td>549</td>\n    </tr>\n    <tr>\n        <td>CALUMET HEIGHTS</td>\n        <td>1568</td>\n    </tr>\n    <tr>\n        <td>CHATHAM</td>\n        <td>5042</td>\n    </tr>\n    <tr>\n        <td>CHICAGO LAWN</td>\n        <td>7086</td>\n    </tr>\n    <tr>\n        <td>CLEARING</td>\n        <td>2085</td>\n    </tr>\n    <tr>\n        <td>DOUGLAS</td>\n        <td>4670</td>\n    </tr>\n    <tr>\n        <td>DUNNING</td>\n        <td>4568</td>\n    </tr>\n    <tr>\n        <td>EAST GARFIELD PARK</td>\n        <td>5337</td>\n    </tr>\n    <tr>\n        <td>EAST SIDE</td>\n        <td>5305</td>\n    </tr>\n    <tr>\n        <td>EDGEWATER</td>\n        <td>4600</td>\n    </tr>\n    <tr>\n        <td>EDISON PARK</td>\n        <td>910</td>\n    </tr>\n    <tr>\n        <td>ENGLEWOOD</td>\n        <td>6832</td>\n    </tr>\n    <tr>\n        <td>FOREST GLEN</td>\n        <td>1431</td>\n    </tr>\n    <tr>\n        <td>FULLER PARK</td>\n        <td>531</td>\n    </tr>\n    <tr>\n        <td>GAGE PARK</td>\n        <td>9915</td>\n    </tr>\n    <tr>\n        <td>GARFIELD RIDGE</td>\n        <td>4552</td>\n    </tr>\n    <tr>\n        <td>GRAND BOULEVARD</td>\n        <td>2809</td>\n    </tr>\n    <tr>\n        <td>GREATER GRAND CROSSING</td>\n        <td>4051</td>\n    </tr>\n    <tr>\n        <td>HEGEWISCH</td>\n        <td>963</td>\n    </tr>\n    <tr>\n        <td>HERMOSA</td>\n        <td>3975</td>\n    </tr>\n    <tr>\n        <td>HUMBOLDT PARK</td>\n        <td>8620</td>\n    </tr>\n    <tr>\n        <td>HYDE PARK</td>\n        <td>1930</td>\n    </tr>\n    <tr>\n        <td>IRVING PARK</td>\n        <td>7764</td>\n    </tr>\n    <tr>\n        <td>JEFFERSON PARK</td>\n        <td>1755</td>\n    </tr>\n    <tr>\n        <td>KENWOOD</td>\n        <td>4287</td>\n    </tr>\n    <tr>\n        <td>LAKE VIEW</td>\n        <td>7055</td>\n    </tr>\n    <tr>\n        <td>LINCOLN PARK</td>\n        <td>5615</td>\n    </tr>\n    <tr>\n        <td>LINCOLN SQUARE</td>\n        <td>4132</td>\n    </tr>\n    <tr>\n        <td>LOGAN SQUARE</td>\n        <td>7351</td>\n    </tr>\n    <tr>\n        <td>LOOP</td>\n        <td>871</td>\n    </tr>\n    <tr>\n        <td>LOWER WEST SIDE</td>\n        <td>7257</td>\n    </tr>\n    <tr>\n        <td>MCKINLEY PARK</td>\n        <td>1552</td>\n    </tr>\n    <tr>\n        <td>MONTCLARE</td>\n        <td>1317</td>\n    </tr>\n    <tr>\n        <td>MORGAN PARK</td>\n        <td>3271</td>\n    </tr>\n    <tr>\n        <td>MOUNT GREENWOOD</td>\n        <td>2091</td>\n    </tr>\n    <tr>\n        <td>NEAR NORTH SIDE</td>\n        <td>3362</td>\n    </tr>\n    <tr>\n        <td>NEAR SOUTH SIDE</td>\n        <td>1378</td>\n    </tr>\n    <tr>\n        <td>NEAR WEST SIDE</td>\n        <td>7975</td>\n    </tr>\n    <tr>\n        <td>NEW CITY</td>\n        <td>7922</td>\n    </tr>\n    <tr>\n        <td>NORTH CENTER</td>\n        <td>7541</td>\n    </tr>\n    <tr>\n        <td>NORTH LAWNDALE</td>\n        <td>5146</td>\n    </tr>\n    <tr>\n        <td>NORTH PARK</td>\n        <td>4210</td>\n    </tr>\n    <tr>\n        <td>NORWOOD PARK</td>\n        <td>6469</td>\n    </tr>\n    <tr>\n        <td>OAKLAND</td>\n        <td>140</td>\n    </tr>\n    <tr>\n        <td>OHARE</td>\n        <td>786</td>\n    </tr>\n    <tr>\n        <td>PORTAGE PARK</td>\n        <td>6954</td>\n    </tr>\n    <tr>\n        <td>PULLMAN</td>\n        <td>1620</td>\n    </tr>\n    <tr>\n        <td>RIVERDALE</td>\n        <td>1547</td>\n    </tr>\n    <tr>\n        <td>ROGERS PARK</td>\n        <td>4068</td>\n    </tr>\n    <tr>\n        <td>ROSELAND</td>\n        <td>7020</td>\n    </tr>\n    <tr>\n        <td>SOUTH CHICAGO</td>\n        <td>4043</td>\n    </tr>\n    <tr>\n        <td>SOUTH DEERING</td>\n        <td>1859</td>\n    </tr>\n    <tr>\n        <td>SOUTH LAWNDALE</td>\n        <td>14793</td>\n    </tr>\n    <tr>\n        <td>SOUTH SHORE</td>\n        <td>4543</td>\n    </tr>\n    <tr>\n        <td>UPTOWN</td>\n        <td>4388</td>\n    </tr>\n    <tr>\n        <td>WASHINGTON HEIGHTS</td>\n        <td>4006</td>\n    </tr>\n    <tr>\n        <td>WASHINGTON PARK</td>\n        <td>2648</td>\n    </tr>\n    <tr>\n        <td>WEST ELSDON</td>\n        <td>3700</td>\n    </tr>\n    <tr>\n        <td>WEST ENGLEWOOD</td>\n        <td>5946</td>\n    </tr>\n    <tr>\n        <td>WEST GARFIELD PARK</td>\n        <td>2622</td>\n    </tr>\n    <tr>\n        <td>WEST LAWN</td>\n        <td>4207</td>\n    </tr>\n    <tr>\n        <td>WEST PULLMAN</td>\n        <td>3240</td>\n    </tr>\n    <tr>\n        <td>WEST RIDGE</td>\n        <td>8197</td>\n    </tr>\n    <tr>\n        <td>WEST TOWN</td>\n        <td>9429</td>\n    </tr>\n    <tr>\n        <td>WOODLAWN</td>\n        <td>4206</td>\n    </tr>\n</table>",
                        "text/plain": "[('ALBANY PARK', 6864),\n ('ARCHER HEIGHTS', 4823),\n ('ARMOUR SQUARE', 1458),\n ('ASHBURN', 6483),\n ('AUBURN GRESHAM', 4175),\n ('AUSTIN', 10933),\n ('AVALON PARK', 1522),\n ('AVONDALE', 3640),\n ('BELMONT CRAGIN', 14386),\n ('BEVERLY', 1636),\n ('BRIDGEPORT', 3167),\n ('BRIGHTON PARK', 9647),\n ('BURNSIDE', 549),\n ('CALUMET HEIGHTS', 1568),\n ('CHATHAM', 5042),\n ('CHICAGO LAWN', 7086),\n ('CLEARING', 2085),\n ('DOUGLAS', 4670),\n ('DUNNING', 4568),\n ('EAST GARFIELD PARK', 5337),\n ('EAST SIDE', 5305),\n ('EDGEWATER', 4600),\n ('EDISON PARK', 910),\n ('ENGLEWOOD', 6832),\n ('FOREST GLEN', 1431),\n ('FULLER PARK', 531),\n ('GAGE PARK', 9915),\n ('GARFIELD RIDGE', 4552),\n ('GRAND BOULEVARD', 2809),\n ('GREATER GRAND CROSSING', 4051),\n ('HEGEWISCH', 963),\n ('HERMOSA', 3975),\n ('HUMBOLDT PARK', 8620),\n ('HYDE PARK', 1930),\n ('IRVING PARK', 7764),\n ('JEFFERSON PARK', 1755),\n ('KENWOOD', 4287),\n ('LAKE VIEW', 7055),\n ('LINCOLN PARK', 5615),\n ('LINCOLN SQUARE', 4132),\n ('LOGAN SQUARE', 7351),\n ('LOOP', 871),\n ('LOWER WEST SIDE', 7257),\n ('MCKINLEY PARK', 1552),\n ('MONTCLARE', 1317),\n ('MORGAN PARK', 3271),\n ('MOUNT GREENWOOD', 2091),\n ('NEAR NORTH SIDE', 3362),\n ('NEAR SOUTH SIDE', 1378),\n ('NEAR WEST SIDE', 7975),\n ('NEW CITY', 7922),\n ('NORTH CENTER', 7541),\n ('NORTH LAWNDALE', 5146),\n ('NORTH PARK', 4210),\n ('NORWOOD PARK', 6469),\n ('OAKLAND', 140),\n ('OHARE', 786),\n ('PORTAGE PARK', 6954),\n ('PULLMAN', 1620),\n ('RIVERDALE', 1547),\n ('ROGERS PARK', 4068),\n ('ROSELAND', 7020),\n ('SOUTH CHICAGO', 4043),\n ('SOUTH DEERING', 1859),\n ('SOUTH LAWNDALE', 14793),\n ('SOUTH SHORE', 4543),\n ('UPTOWN', 4388),\n ('WASHINGTON HEIGHTS', 4006),\n ('WASHINGTON PARK', 2648),\n ('WEST ELSDON', 3700),\n ('WEST ENGLEWOOD', 5946),\n ('WEST GARFIELD PARK', 2622),\n ('WEST LAWN', 4207),\n ('WEST PULLMAN', 3240),\n ('WEST RIDGE', 8197),\n ('WEST TOWN', 9429),\n ('WOODLAWN', 4206)]"
                    },
                    "execution_count": 78,
                    "metadata": {},
                    "output_type": "execute_result"
                }
            ],
            "source": "%%sql\nselect COMMUNITY_AREA_NAME, sum(\"COLLEGE_ENROLLMENT\") AS College_ENROLLMENT from SCHOOLS \nGROUP BY COMMUNITY_AREA_NAME;\n\n"
        },
        {
            "cell_type": "markdown",
            "metadata": {},
            "source": "### Problem 9\n\n##### Get the 5 Community Areas with the least total College Enrollment  sorted in ascending order\n"
        },
        {
            "cell_type": "code",
            "execution_count": 80,
            "metadata": {},
            "outputs": [
                {
                    "name": "stdout",
                    "output_type": "stream",
                    "text": " * ibm_db_sa://fmn26900:***@dashdb-txn-sbox-yp-dal09-08.services.dal.bluemix.net:50000/BLUDB\nDone.\n"
                },
                {
                    "data": {
                        "text/html": "<table>\n    <tr>\n        <th>community_area_name</th>\n        <th>tot_college_enrollment</th>\n    </tr>\n    <tr>\n        <td>OAKLAND</td>\n        <td>140</td>\n    </tr>\n    <tr>\n        <td>FULLER PARK</td>\n        <td>531</td>\n    </tr>\n    <tr>\n        <td>BURNSIDE</td>\n        <td>549</td>\n    </tr>\n    <tr>\n        <td>OHARE</td>\n        <td>786</td>\n    </tr>\n    <tr>\n        <td>LOOP</td>\n        <td>871</td>\n    </tr>\n</table>",
                        "text/plain": "[('OAKLAND', 140),\n ('FULLER PARK', 531),\n ('BURNSIDE', 549),\n ('OHARE', 786),\n ('LOOP', 871)]"
                    },
                    "execution_count": 80,
                    "metadata": {},
                    "output_type": "execute_result"
                }
            ],
            "source": "%%sql\nselect COMMUNITY_AREA_NAME, sum(\"COLLEGE_ENROLLMENT\") AS Tot_College_ENROLLMENT \nfrom SCHOOLS \nGROUP BY COMMUNITY_AREA_NAME\nORDER BY Tot_College_ENROLLMENT fetch first 5 rows only;"
        },
        {
            "cell_type": "markdown",
            "metadata": {},
            "source": "### Problem 10\n\n##### Get the hardship index for the community area which has College Enrollment of 4368\n"
        },
        {
            "cell_type": "code",
            "execution_count": 91,
            "metadata": {},
            "outputs": [
                {
                    "name": "stdout",
                    "output_type": "stream",
                    "text": " * ibm_db_sa://fmn26900:***@dashdb-txn-sbox-yp-dal09-08.services.dal.bluemix.net:50000/BLUDB\nDone.\n"
                },
                {
                    "data": {
                        "text/html": "<table>\n    <tr>\n        <th>hardship_index</th>\n        <th>community_area_name</th>\n        <th>college_enrollment</th>\n    </tr>\n    <tr>\n        <td>6.0</td>\n        <td>NORTH CENTER</td>\n        <td>4368</td>\n    </tr>\n</table>",
                        "text/plain": "[(6.0, 'NORTH CENTER', 4368)]"
                    },
                    "execution_count": 91,
                    "metadata": {},
                    "output_type": "execute_result"
                }
            ],
            "source": "%%sql\nselect hardship_index, s.COMMUNITY_AREA_NAME, COLLEGE_ENROLLMENT \nfrom SCHOOLS s \nINNER JOIN chicago_socioeconomic_data sd\nON sd.ca = s.community_area_number \nWHERE COLLEGE_ENROLLMENT = 4368;"
        },
        {
            "cell_type": "markdown",
            "metadata": {},
            "source": "### Problem 11\n\n##### Get the hardship index for the community area which has the highest value for College Enrollment\n"
        },
        {
            "cell_type": "code",
            "execution_count": 98,
            "metadata": {},
            "outputs": [
                {
                    "name": "stdout",
                    "output_type": "stream",
                    "text": " * ibm_db_sa://fmn26900:***@dashdb-txn-sbox-yp-dal09-08.services.dal.bluemix.net:50000/BLUDB\nDone.\n"
                },
                {
                    "data": {
                        "text/html": "<table>\n    <tr>\n        <th>hardship_index</th>\n        <th>community_area_name</th>\n        <th>college_enrollment</th>\n    </tr>\n    <tr>\n        <td>6.0</td>\n        <td>NORTH CENTER</td>\n        <td>4368</td>\n    </tr>\n</table>",
                        "text/plain": "[(6.0, 'NORTH CENTER', 4368)]"
                    },
                    "execution_count": 98,
                    "metadata": {},
                    "output_type": "execute_result"
                }
            ],
            "source": "%%sql\nselect hardship_index, s.COMMUNITY_AREA_NAME, COLLEGE_ENROLLMENT \nfrom SCHOOLS s \nINNER JOIN chicago_socioeconomic_data sd\nON sd.ca = s.community_area_number \nWHERE COLLEGE_ENROLLMENT = (select max(COLLEGE_ENROLLMENT) from schools);\n\n\n"
        }
    ],
    "metadata": {
        "kernelspec": {
            "display_name": "Python 3.7",
            "language": "python",
            "name": "python3"
        },
        "language_info": {
            "codemirror_mode": {
                "name": "ipython",
                "version": 3
            },
            "file_extension": ".py",
            "mimetype": "text/x-python",
            "name": "python",
            "nbconvert_exporter": "python",
            "pygments_lexer": "ipython3",
            "version": "3.7.9"
        },
        "widgets": {
            "state": {},
            "version": "1.1.2"
        }
    },
    "nbformat": 4,
    "nbformat_minor": 2
}